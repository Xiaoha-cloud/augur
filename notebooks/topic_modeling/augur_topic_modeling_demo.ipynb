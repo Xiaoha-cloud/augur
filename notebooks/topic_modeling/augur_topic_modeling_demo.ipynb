{
 "cells": [
  {
   "cell_type": "code",
   "execution_count": null,
   "id": "01fb09d6-4f45-4339-b31a-2d26f8e92383",
   "metadata": {},
   "outputs": [],
   "source": [
    "# Topic Modeling Demo for CHAOSS Augur Message Data\n",
    "\n",
    " #  1. Environment and Dependencies\n",
    "import pandas as pd\n",
    "import psycopg2\n",
    "import spacy\n",
    "import gensim\n",
    "import gensim.corpora as corpora\n",
    "from nltk.corpus import stopwords\n",
    "from gensim.models import HdpModel\n",
    "import pyLDAvis.gensim_models as gensimvis\n",
    "import pyLDAvis\n",
    "import matplotlib.pyplot as plt\n",
    "import warnings\n",
    "warnings.filterwarnings(\"ignore\")"
   ]
  },
  {
   "cell_type": "code",
   "execution_count": null,
   "id": "bfdd2953-a690-426a-bfe5-ad030db77634",
   "metadata": {},
   "outputs": [],
   "source": [
    "#  2. Database connection configuration (localhost, user=augur, default port)\n",
    "conn = psycopg2.connect(\n",
    "    dbname=\"augur\",\n",
    "    user=\"augur\",\n",
    "    password=\"augur\",\n",
    "    host=\"localhost\",\n",
    "    port=\"5432\"\n",
    ")"
   ]
  },
  {
   "cell_type": "code",
   "execution_count": null,
   "id": "cc636a2e-6df3-42c8-a6a4-a90eaf4d149a",
   "metadata": {},
   "outputs": [
    {
     "name": "stdout",
     "output_type": "stream",
     "text": [
      "Total messages retrieved: 43\n"
     ]
    }
   ],
   "source": [
    "#  3. Data extraction: Get messages from message table with repo_id=24441\n",
    "sql = \"\"\"\n",
    "SELECT msg_id, msg_text, msg_timestamp \n",
    "FROM augur_data.message\n",
    "WHERE repo_id = 24441\n",
    "  AND LENGTH(msg_text) > 30\n",
    "  AND msg_timestamp BETWEEN '2021-08-03' AND '2023-12-31'\n",
    "\"\"\"\n",
    "\n",
    "messages_df = pd.read_sql_query(sql, conn)\n",
    "print(f\"Total messages retrieved: {len(messages_df)}\")"
   ]
  },
  {
   "cell_type": "code",
   "execution_count": null,
   "id": "a05c726e-79d9-42b9-a50d-bc7a55644652",
   "metadata": {},
   "outputs": [],
   "source": [
    "#  4. Text preprocessing: spaCy tokenization + stopword removal\n",
    "txts = messages_df['msg_text'].astype(str).tolist()\n",
    "nlp = spacy.load(\"en_core_web_sm\")\n",
    "stop_words = set(stopwords.words(\"english\"))\n",
    "\n",
    "# Basic preprocessing function\n",
    "def preprocess(text):\n",
    "    doc = nlp(text.lower())\n",
    "    return [token.lemma_ for token in doc if token.is_alpha and token.lemma_ not in stop_words and len(token) > 2]\n",
    "\n",
    "texts_tokenized = [preprocess(t) for t in txts]"
   ]
  },
  {
   "cell_type": "code",
   "execution_count": null,
   "id": "b2754db5-ea32-45c9-8e9f-045f61593e39",
   "metadata": {},
   "outputs": [
    {
     "name": "stdout",
     "output_type": "stream",
     "text": [
      "\n",
      "Training HDP model...\n"
     ]
    }
   ],
   "source": [
    "#  5. Build Gensim dictionary and corpus\n",
    "id2word = corpora.Dictionary(texts_tokenized)\n",
    "corpus = [id2word.doc2bow(text) for text in texts_tokenized]\n",
    "\n",
    "#  6. Train HDP model to automatically infer the number of topics\n",
    "print(\"\\nTraining HDP model...\")\n",
    "hdp_model = HdpModel(corpus=corpus, id2word=id2word)"
   ]
  },
  {
   "cell_type": "code",
   "execution_count": null,
   "id": "54da5d8b-a0cf-43a1-b964-c6986b23b496",
   "metadata": {},
   "outputs": [
    {
     "name": "stdout",
     "output_type": "stream",
     "text": [
      "\n",
      "Top 10 topics and keywords:\n",
      "\n",
      "Topic 0\n",
      "['first', 'operate', 'pull', 'blob', 'review', 'locally', 'write', 'full', 'code', 'approval']\n",
      "\n",
      "Topic 1\n",
      "['retweet', 'event', 'detail', 'please', 'guide', 'new', 'check', 'complete', 'octo', 'solution']\n",
      "\n",
      "Topic 2\n",
      "['approve', 'trigger', 'open', 'btw', 'link', 'share', 'add', 'approval', 'issue', 'tweet']\n",
      "\n",
      "Topic 3\n",
      "['michaelclifford', 'assign', 'inactivity', 'seem', 'approve', 'full', 'wonder', 'since', 'documentation', 'requirement']\n",
      "\n",
      "Topic 4\n",
      "['great', 'additional', 'well', 'add', 'review', 'ready', 'thank', 'open', 'requirement', 'lifecycle']\n",
      "\n",
      "Topic 5\n",
      "['qualify', 'review', 'inactivity', 'full', 'opinion', 'proof', 'hence', 'process', 'oindrillac', 'perfect']\n",
      "\n",
      "Topic 6\n",
      "['plan', 'bot', 'detail', 'complete', 'quote', 'another', 'lifecycle', 'add', 'blob', 'approvalnotifier']\n",
      "\n",
      "Topic 7\n",
      "['version', 'complete', 'bypass', 'well', 'safe', 'please', 'stale', 'operate', 'approval', 'remove']\n",
      "\n",
      "Topic 8\n",
      "['cancel', 'michaelclifford', 'solution', 'idea', 'prow', 'describe', 'manually', 'also', 'quick', 'new']\n",
      "\n",
      "Topic 9\n",
      "['version', 'count', 'since', 'contributor', 'accept', 'quote', 'community', 'shortend', 'michaelclifford', 'plan']\n"
     ]
    }
   ],
   "source": [
    "#  7. Print the top topics and keywords\n",
    "hdp_topics = hdp_model.show_topics(num_topics=10, num_words=10, formatted=False)\n",
    "print(\"\\nTop 10 topics and keywords:\")\n",
    "for topic_id, words in hdp_topics:\n",
    "    print(f\"\\nTopic {topic_id}\")\n",
    "    print([word for word, _ in words])"
   ]
  },
  {
   "cell_type": "code",
   "execution_count": null,
   "id": "ac9903be-0ad1-418e-b36c-1cb63979b116",
   "metadata": {},
   "outputs": [
    {
     "name": "stdout",
     "output_type": "stream",
     "text": [
      "\n",
      "Preparing visualization...\n",
      "✔️ Visualization saved as hdp_topics_augur.html\n"
     ]
    }
   ],
   "source": [
    "#  8. Visualize using pyLDAvis\n",
    "print(\"\\nPreparing visualization...\")\n",
    "vis_data = gensimvis.prepare(hdp_model, corpus, id2word)\n",
    "pyLDAvis.display(vis_data)\n",
    "\n",
    "# Optionally save as HTML for later viewing\n",
    "pyLDAvis.save_html(vis_data, \"notebooks/topic_modeling/output/hdp_topics_augur.html\")\n",
    "print(\"✔️ Visualization saved as hdp_topics_augur.html\")"
   ]
  },
  {
   "cell_type": "code",
   "execution_count": null,
   "id": "5a51dbe8-8340-44c6-877c-5e854dfcc575",
   "metadata": {},
   "outputs": [
    {
     "data": {
      "text/html": [
       "<div>\n",
       "<style scoped>\n",
       "    .dataframe tbody tr th:only-of-type {\n",
       "        vertical-align: middle;\n",
       "    }\n",
       "\n",
       "    .dataframe tbody tr th {\n",
       "        vertical-align: top;\n",
       "    }\n",
       "\n",
       "    .dataframe thead th {\n",
       "        text-align: right;\n",
       "    }\n",
       "</style>\n",
       "<table border=\"1\" class=\"dataframe\">\n",
       "  <thead>\n",
       "    <tr style=\"text-align: right;\">\n",
       "      <th></th>\n",
       "      <th>dominant_topic</th>\n",
       "      <th>msg_timestamp</th>\n",
       "      <th>msg_text</th>\n",
       "    </tr>\n",
       "  </thead>\n",
       "  <tbody>\n",
       "    <tr>\n",
       "      <th>0</th>\n",
       "      <td>0</td>\n",
       "      <td>2021-11-04 13:33:03</td>\n",
       "      <td>[APPROVALNOTIFIER] This PR is **APPROVED**\\n\\n...</td>\n",
       "    </tr>\n",
       "    <tr>\n",
       "      <th>1</th>\n",
       "      <td>0</td>\n",
       "      <td>2022-04-22 20:18:18</td>\n",
       "      <td>[APPROVALNOTIFIER] This PR is **APPROVED**\\n\\n...</td>\n",
       "    </tr>\n",
       "    <tr>\n",
       "      <th>2</th>\n",
       "      <td>1</td>\n",
       "      <td>2022-03-11 20:12:43</td>\n",
       "      <td>/lgtm 👍 \\r\\n/hold\\r\\n@schwesig do you want to ...</td>\n",
       "    </tr>\n",
       "    <tr>\n",
       "      <th>3</th>\n",
       "      <td>2</td>\n",
       "      <td>2021-10-11 15:28:44</td>\n",
       "      <td>&gt; What about we also link to the https://githu...</td>\n",
       "    </tr>\n",
       "    <tr>\n",
       "      <th>4</th>\n",
       "      <td>2</td>\n",
       "      <td>2022-01-28 14:13:27</td>\n",
       "      <td>for documentation purposes - https://github.co...</td>\n",
       "    </tr>\n",
       "    <tr>\n",
       "      <th>5</th>\n",
       "      <td>4</td>\n",
       "      <td>2022-03-11 22:43:14</td>\n",
       "      <td>@oindrillac great tweet, thank you for making ...</td>\n",
       "    </tr>\n",
       "    <tr>\n",
       "      <th>6</th>\n",
       "      <td>15</td>\n",
       "      <td>2021-10-16 15:01:08</td>\n",
       "      <td>Issues go stale after 90d of inactivity.\\nMark...</td>\n",
       "    </tr>\n",
       "    <tr>\n",
       "      <th>7</th>\n",
       "      <td>15</td>\n",
       "      <td>2021-10-26 18:04:43</td>\n",
       "      <td>Issues go stale after 90d of inactivity.\\nMark...</td>\n",
       "    </tr>\n",
       "    <tr>\n",
       "      <th>8</th>\n",
       "      <td>128</td>\n",
       "      <td>2022-03-11 22:07:33</td>\n",
       "      <td>@oindrillac Please change and do what is neede...</td>\n",
       "    </tr>\n",
       "  </tbody>\n",
       "</table>\n",
       "</div>"
      ],
      "text/plain": [
       "   dominant_topic       msg_timestamp  \\\n",
       "0               0 2021-11-04 13:33:03   \n",
       "1               0 2022-04-22 20:18:18   \n",
       "2               1 2022-03-11 20:12:43   \n",
       "3               2 2021-10-11 15:28:44   \n",
       "4               2 2022-01-28 14:13:27   \n",
       "5               4 2022-03-11 22:43:14   \n",
       "6              15 2021-10-16 15:01:08   \n",
       "7              15 2021-10-26 18:04:43   \n",
       "8             128 2022-03-11 22:07:33   \n",
       "\n",
       "                                            msg_text  \n",
       "0  [APPROVALNOTIFIER] This PR is **APPROVED**\\n\\n...  \n",
       "1  [APPROVALNOTIFIER] This PR is **APPROVED**\\n\\n...  \n",
       "2  /lgtm 👍 \\r\\n/hold\\r\\n@schwesig do you want to ...  \n",
       "3  > What about we also link to the https://githu...  \n",
       "4  for documentation purposes - https://github.co...  \n",
       "5  @oindrillac great tweet, thank you for making ...  \n",
       "6  Issues go stale after 90d of inactivity.\\nMark...  \n",
       "7  Issues go stale after 90d of inactivity.\\nMark...  \n",
       "8  @oindrillac Please change and do what is neede...  "
      ]
     },
     "execution_count": 16,
     "metadata": {},
     "output_type": "execute_result"
    }
   ],
   "source": [
    "# Assign dominant topic to each message\n",
    "doc_topics = [max(hdp_model[doc], key=lambda x: x[1])[0] if hdp_model[doc] else -1 for doc in corpus]\n",
    "messages_df['dominant_topic'] = doc_topics\n",
    "\n",
    "# Show 2 representative comments for each topic\n",
    "representative_samples = messages_df.groupby('dominant_topic').apply(lambda x: x.sample(min(2, len(x)))).reset_index(drop=True)\n",
    "representative_samples[['dominant_topic', 'msg_timestamp', 'msg_text']]"
   ]
  },
  {
   "cell_type": "code",
   "execution_count": null,
   "id": "8f4c9672-801f-4342-a46c-4db87d9d0782",
   "metadata": {},
   "outputs": [],
   "source": []
  }
 ],
 "metadata": {
  "kernelspec": {
   "display_name": "Python 3.9 (Augur)",
   "language": "python",
   "name": "augur39"
  },
  "language_info": {
   "codemirror_mode": {
    "name": "ipython",
    "version": 3
   },
   "file_extension": ".py",
   "mimetype": "text/x-python",
   "name": "python",
   "nbconvert_exporter": "python",
   "pygments_lexer": "ipython3",
   "version": "3.9.18"
  }
 },
 "nbformat": 4,
 "nbformat_minor": 5
}
